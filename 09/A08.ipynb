{
 "cells": [
  {
   "cell_type": "markdown",
   "metadata": {},
   "source": [
    "# CS515/Assignment 08\n",
    "\n",
    "TOPIC: *Linear Programming*\n",
    "\n",
    "---"
   ]
  },
  {
   "cell_type": "markdown",
   "metadata": {},
   "source": [
    "# [Q1] Binary Knapsack\n",
    "\n",
    "\n",
    "Write a function `binary_knapsack` to solve a given binary knapsack problem using Integer Linear Programming. The function should take three inputs:\n",
    "  * capacity : total (carry) capacity of the knapsack\n",
    "  * weights : weight of each item\n",
    "  * costs : cost of each item\n",
    "\n",
    " The function signature should be as follows:\n",
    "\n",
    "```python\n",
    "from typing import List\n",
    "\n",
    "def binary_knapsack(\n",
    "    capacity:float, \n",
    "    weights:List[float], \n",
    "    costs:List[float]\n",
    ") -> List: ...\n",
    "\n",
    "```\n",
    "\n",
    "The function should return a list of binary decisions indicating if a particular item was added to the knapsack or not (0 = not added; 1 = added). Assume that items are numbered starting at zero.\n",
    "\n",
    "---"
   ]
  },
  {
   "cell_type": "code",
   "execution_count": null,
   "metadata": {},
   "outputs": [],
   "source": [
    "from typing import List\n",
    "\n",
    "def binary_knapsack(capacity:float, weights:List[float], costs:List[float]):\n",
    "    ..."
   ]
  },
  {
   "cell_type": "markdown",
   "metadata": {},
   "source": [
    "# [Q2] Max Flow with Linear Programming\n",
    "\n",
    "\n",
    "Write a function `max_flow` that takes a **flow network** with a given *source* and *sink* as input and returns a formulated LP with appropiate coefficients for objective function and constrains (as accepted by the `scipy.optimize.linprog` function). The function signature should be as follows:\n",
    "\n",
    "```python\n",
    "from typing import Hashable as Node, SupportsFloat as Capacity, List\n",
    "\n",
    "# output type hint\n",
    "c, b_ub, b_eq = List, List, List\n",
    "A_ub, A_eq, bounds = List[List], List[List], List[List]\n",
    "\n",
    "def max_flow(\n",
    "    nodes:  set[Node],\n",
    "    edges:  dict[tuple[Node],  Capacity],\n",
    "    source: Node,\n",
    "    sink:   Node,\n",
    ")-> c (List), A_ub (List[List]), b_ub (List), A_eq (List[List]), b_eq (List), bounds (List[List]): ...\n",
    "\n",
    "```\n",
    "\n",
    "The function should return coefficients for objective functions (`c`), inequality constrains (`A_ub`, `b_ub`), equality constrains (`A_eq`, `b_eq`) and bounds (`bounds`). The returned variables should be of `list` type.\n",
    "\n",
    "---"
   ]
  },
  {
   "cell_type": "code",
   "execution_count": 1,
   "metadata": {},
   "outputs": [],
   "source": [
    "from typing import Hashable as Node, SupportsFloat as Capacity\n",
    "\n",
    "def max_flow(\n",
    "    nodes:  set[Node],\n",
    "    edges:  dict[tuple[Node],  Capacity],\n",
    "    source: Node,\n",
    "    sink:   Node,\n",
    "): ...\n"
   ]
  },
  {
   "cell_type": "markdown",
   "metadata": {},
   "source": [
    "# Submission\n",
    "\n",
    "`A08.py` containing `binary_knapsack` and `max_flow`\n",
    "\n",
    "---\n",
    "\n"
   ]
  }
 ],
 "metadata": {
  "kernelspec": {
   "display_name": "Python 3 (ipykernel)",
   "language": "python",
   "name": "python3"
  },
  "language_info": {
   "codemirror_mode": {
    "name": "ipython",
    "version": 3
   },
   "file_extension": ".py",
   "mimetype": "text/x-python",
   "name": "python",
   "nbconvert_exporter": "python",
   "pygments_lexer": "ipython3",
   "version": "3.10.12"
  }
 },
 "nbformat": 4,
 "nbformat_minor": 4
}
