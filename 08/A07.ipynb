{
 "cells": [
  {
   "cell_type": "markdown",
   "metadata": {},
   "source": [
    "# CS515/Assignment 07\n",
    "\n",
    "TOPIC: *Graph Optimization*\n",
    "\n",
    "---"
   ]
  },
  {
   "cell_type": "markdown",
   "metadata": {},
   "source": [
    "# [Q1] Minimum-Cost Nodes\n",
    "\n",
    "Consider an undirected acyclic graph $G=(V,E)$ where each node $(v \\in V)$ has a negative **cost** $(v_c \\lt 0)$ associated with it. Design and implement an $\\mathcal{O}(V)$ algorithm as a function `min_cost_nodes` that takes a graph object `graph` as input and **outputs a set of nodes** $U \\subseteq V$ such that the total cost of nodes in $U$ is the minimum and no two nodes in $U$ are adjacent to each other i.e.,\n",
    "\n",
    "$$min \\bigg(\\;\\sum_{\\forall u \\in U}^{} u_c\\;\\bigg) \\;\\; \\text{such that} \\;\\; \\forall (i,j) \\in U \\big[\\;edge(i,j) \\notin E \\;\\big]$$\n",
    "\n",
    "Assumptions:\n",
    "* edges do not have weights\n",
    "* there are no self loops i.e.,  $\\forall v \\in V \\big[\\;edge(v,v) \\notin E \\;\\big]$\n",
    "\n",
    "Note:\n",
    "* `min_cost_nodes` should take two arguments as input\n",
    "    * `nodes` as dict of nodes and their costs `dict[ Node(hashable), Cost(float) ]`\n",
    "    * `edges` as set of 2-tuples `set[(Node(hashable), Node(hashable))]`\n",
    "* `min_cost_nodes` should output \n",
    "    * a set of nodes as `set[Node(hashable)]`\n",
    "\n",
    "---\n"
   ]
  },
  {
   "cell_type": "markdown",
   "metadata": {},
   "source": [
    "# [Q2] Optimal Order Assignment\n",
    "\n",
    "A certain baker has $K$ flavours of cakes available in stock represent by $\\{k_1 \\cdots k_K\\}$ where $q_i$ represents the quantity of $i^{th}$ falvour. A customers can order only one cake. However, they must provide a choice of flavour (at least one, at most $K$). The baker must provide any one of the requested flavours. If the baker could not provide any of the flavours, he will lose the customer. Suppose that $N$ customers provide their choices to the baker, write a function `optimal_assignment` that finds the optimal assignment of flavours to the customers such that the baker loses minimum number of customers. \n",
    "\n",
    "\n",
    "Note:\n",
    "* `optimal_assignment` should take two arguments as input\n",
    "    * (1) `available` - quantity of each flavour available in stock as a dict `dict[ flavour(hashable) : quantity(int) ]`\n",
    "        * length should be exactly $K$\n",
    "        * quantity $\\gt 0$\n",
    "    * (2) `choices` - choices provided by customers as a dict  `dict[ customer(hashable) : set[flavour(hashable)] ]`\n",
    "        * length should be exactly $N$\n",
    "        * each customer provides at least one choice\n",
    "* `optimal_assignment` should output \n",
    "    * (1) an optimal assignment of flavours as a dict  `dict[ customer(hashable) : flavour(hashable) ]`\n",
    "        * length should be exactly $N$ \n",
    "        * assigning the flavour `None` indicates that no flavour could be assigned to the customer\n",
    "\n",
    "---"
   ]
  },
  {
   "cell_type": "markdown",
   "metadata": {},
   "source": [
    "# [Q3] Maximum-Separation Clustering\n",
    "\n",
    "Clustering is an unsupervised machine learning technique where the data-points are clustered together according to certain \"similarity\" criteria such as distance. A clustering characterized by *maximum separation* ensures that the distance between the resultant clusters is maximized, specifically, aiming to maximize the minimum distance between any two points belonging to distinct clusters. Implement the *k-maximally-separated clusters* algorithm using the Kruskal's algorithm in a function `k_max_clusters` that takes a set of data-points (vectors) as input and separates the points into $k$ distinct clusters.\n",
    "\n",
    "Assumptions:\n",
    "* euclideian distance b/w data points\n",
    "* data-points are at-least 2-dimensional\n",
    "\n",
    "Note:\n",
    "* `k_max_clusters` should take two argument as inputs\n",
    "    * `k` - integer, the number of clusters (at least one)\n",
    "    * `points` - the set of points (vectors) as an iterable of points (`list` or `tuples` or `ndarrays`)\n",
    "* `k_max_clusters` should output \n",
    "    * points seperated into clusters as a list of points in each cluster `list[Iterable[Point]]`\n",
    "    * the length of returned list should be exactly $k$ (assume that clusters are numbered $0$ to $(k-1$)\n",
    "\n",
    "---"
   ]
  },
  {
   "cell_type": "markdown",
   "metadata": {},
   "source": [
    "# Submission\n",
    "\n",
    "`A07.py` containing `min_cost_nodes`, `optimal_assignment`, `k_max_clusters`\n",
    "\n",
    "---\n",
    "\n"
   ]
  },
  {
   "cell_type": "markdown",
   "metadata": {},
   "source": [
    "# Sample input/output"
   ]
  },
  {
   "cell_type": "markdown",
   "metadata": {},
   "source": [
    "### [Q1]"
   ]
  },
  {
   "cell_type": "code",
   "execution_count": null,
   "metadata": {},
   "outputs": [],
   "source": [
    "from A07 import min_cost_nodes\n",
    "\n",
    "nodes = min_cost_nodes(\n",
    "    nodes=dict(A=-2., B=-3., C=-4., D=-5.),\n",
    "    edges=set( [(\"A\", \"B\"), (\"B\",\"C\"), (\"A\", \"D\"), (\"C\", \"D\")] )\n",
    ")\n",
    "nodes == set([\"B\",\"D\"]) # with cost = -8"
   ]
  },
  {
   "cell_type": "markdown",
   "metadata": {},
   "source": [
    "### [Q2]"
   ]
  },
  {
   "cell_type": "code",
   "execution_count": null,
   "metadata": {},
   "outputs": [],
   "source": [
    "from A07 import optimal_assignment\n",
    "\n",
    "assigned = optimal_assignment(\n",
    "    available=dict(\n",
    "        chocolate=  2, \n",
    "        vanilla=    1, \n",
    "        rose=       3, \n",
    "        strawberry= 1,\n",
    "        ),\n",
    "    choices=dict(\n",
    "        alice=      set([\"chocolate\", \"vanilla\"]),\n",
    "        bob=        set([\"chocolate\", \"strawberry\"]),\n",
    "        charlie=    set([\"vanilla\"]),\n",
    "        duke=       set([\"vanilla\", \"rose\", \"chocolate\"]),\n",
    "        )\n",
    "    )\n",
    "assigned == dict(\n",
    "    alice = \"chocolate\",\n",
    "    bob = \"strawberry\",\n",
    "    charlie = \"vanilla\",\n",
    "    duke = \"rose\",\n",
    ")"
   ]
  },
  {
   "cell_type": "markdown",
   "metadata": {},
   "source": [
    "### [Q3]"
   ]
  },
  {
   "cell_type": "code",
   "execution_count": null,
   "metadata": {},
   "outputs": [],
   "source": [
    "from A07 import k_max_clusters\n",
    "\n",
    "clusters = k_max_clusters(\n",
    "    k=2,\n",
    "    points=(\n",
    "        (1,2),\n",
    "        (10,2),\n",
    "        (1,0),\n",
    "        (10,0),\n",
    "        (1,1),\n",
    "        (10,1),\n",
    "    ),\n",
    ")\n",
    "clusters == [\n",
    "    [\n",
    "        (\n",
    "        (1,2),\n",
    "        (1,0),\n",
    "        (1,1),\n",
    "        ),\n",
    "    ],\n",
    "    [\n",
    "        (\n",
    "        (10,2),\n",
    "        (10,0),\n",
    "        (10,1),\n",
    "        ),\n",
    "    ]\n",
    "]"
   ]
  },
  {
   "cell_type": "markdown",
   "metadata": {},
   "source": [
    "---"
   ]
  }
 ],
 "metadata": {
  "kernelspec": {
   "display_name": "Python 3 (ipykernel)",
   "language": "python",
   "name": "python3"
  },
  "language_info": {
   "codemirror_mode": {
    "name": "ipython",
    "version": 3
   },
   "file_extension": ".py",
   "mimetype": "text/x-python",
   "name": "python",
   "nbconvert_exporter": "python",
   "pygments_lexer": "ipython3",
   "version": "3.10.12"
  }
 },
 "nbformat": 4,
 "nbformat_minor": 4
}
