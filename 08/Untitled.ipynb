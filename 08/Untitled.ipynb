{
 "cells": [
  {
   "cell_type": "code",
   "execution_count": 2,
   "id": "15ccd548-e70d-480b-a84c-c47885a28f4a",
   "metadata": {},
   "outputs": [
    {
     "name": "stdout",
     "output_type": "stream",
     "text": [
      "<class 'set'>\n",
      "1 -> {'B', 'D'} -8.0\n",
      "<class 'dict'>\n",
      "2 -> {'alice': 'chocolate', 'bob': 'strawberry', 'charlie': 'vanilla', 'duke': 'rose'}\n",
      "<class 'list'>\n",
      "3 ->  [[(1, 0), (1, 2), (1, 1)], [(10, 0), (10, 2), (10, 1)]]\n"
     ]
    }
   ],
   "source": [
    "from A07 import k_max_clusters, min_cost_nodes, optimal_assignment\n",
    "\n",
    "nodes, cost = min_cost_nodes(\n",
    "    nodes=dict(A=-2., B=-3., C=-4., D=-5.),\n",
    "    edges=set( [(\"A\", \"B\"), (\"B\",\"C\"), (\"A\", \"D\"), (\"C\", \"D\")] )\n",
    ")\n",
    "print(type(nodes))\n",
    "print(\"1 ->\", nodes, cost)\n",
    "\n",
    "\n",
    "assigned = optimal_assignment(\n",
    "    available=dict(\n",
    "        chocolate=  2, \n",
    "        vanilla=    1, \n",
    "        rose=       3, \n",
    "        strawberry= 1,\n",
    "        ),\n",
    "    choices=dict(\n",
    "        alice=      set([\"chocolate\", \"vanilla\"]),\n",
    "        bob=        set([\"chocolate\", \"strawberry\"]),\n",
    "        charlie=    set([\"vanilla\"]),\n",
    "        duke=       set([\"vanilla\", \"rose\", \"chocolate\"]),\n",
    "        )\n",
    ")\n",
    "print(type(assigned))\n",
    "print(\"2 ->\", assigned)\n",
    "\n",
    "clusters = k_max_clusters(\n",
    "    k=2,\n",
    "    points=(\n",
    "        (1,2),\n",
    "        (10,2),\n",
    "        (1,0),\n",
    "        (10,0),\n",
    "        (1,1),\n",
    "        (10,1),\n",
    "    ),\n",
    ")\n",
    "print(type(clusters))\n",
    "print(\"3 -> \", clusters)"
   ]
  },
  {
   "cell_type": "code",
   "execution_count": null,
   "id": "dc628b4f-3bf8-419b-9577-fe44b0c12fab",
   "metadata": {},
   "outputs": [],
   "source": []
  }
 ],
 "metadata": {
  "kernelspec": {
   "display_name": "Python 3 (ipykernel)",
   "language": "python",
   "name": "python3"
  },
  "language_info": {
   "codemirror_mode": {
    "name": "ipython",
    "version": 3
   },
   "file_extension": ".py",
   "mimetype": "text/x-python",
   "name": "python",
   "nbconvert_exporter": "python",
   "pygments_lexer": "ipython3",
   "version": "3.10.12"
  }
 },
 "nbformat": 4,
 "nbformat_minor": 5
}
